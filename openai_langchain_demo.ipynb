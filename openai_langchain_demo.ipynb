{
 "cells": [
  {
   "cell_type": "markdown",
   "id": "f1039837-688a-4976-9115-f05ed17e3111",
   "metadata": {},
   "source": [
    "<img src = \"https://github.com/VeryFatBoy/notebooks/blob/main/common/images/img_github_singlestore-jupyter_featured_2.png?raw=true\">"
   ]
  },
  {
   "cell_type": "markdown",
   "id": "9e5dae59-c1f9-4d5d-babd-e986ebe1a49e",
   "metadata": {},
   "source": [
    "<div id=\"singlestore-header\" style=\"display: flex; background-color: rgba(235, 249, 245, 0.25); padding: 5px;\">\n",
    "    <div id=\"icon-image\" style=\"width: 90px; height: 90px;\">\n",
    "        <img width=\"100%\" height=\"100%\" src=\"https://raw.githubusercontent.com/singlestore-labs/spaces-notebooks/master/common/images/header-icons/browser.png\" />\n",
    "    </div>\n",
    "    <div id=\"text\" style=\"padding: 5px; margin-left: 10px;\">\n",
    "        <div id=\"badge\" style=\"display: inline-block; background-color: rgba(0, 0, 0, 0.15); border-radius: 4px; padding: 4px 8px; align-items: center; margin-top: 6px; margin-bottom: -2px; font-size: 80%\">SingleStore Notebooks</div>\n",
    "        <h1 style=\"font-weight: 500; margin: 8px 0 0 4px;\">Using OpenAI and LangChain's SQLDatabaseToolkit with SingleStore</h1>\n",
    "    </div>\n",
    "</div>"
   ]
  },
  {
   "cell_type": "code",
   "execution_count": 1,
   "id": "3843ade9-3bf0-4dc0-b3a3-001a990a5d62",
   "metadata": {},
   "outputs": [
    {
     "name": "stdout",
     "output_type": "stream",
     "text": [
      "\u001b[33mWARNING: No matching packages\u001b[0m\u001b[33m\n",
      "\u001b[0m"
     ]
    }
   ],
   "source": [
    "!pip cache purge --quiet"
   ]
  },
  {
   "cell_type": "code",
   "execution_count": 2,
   "id": "562e330e-e810-4911-96cb-6f51a19dace4",
   "metadata": {},
   "outputs": [],
   "source": [
    "!pip install langchain langchain-community langchain-openai openai sqlalchemy-singlestoredb --quiet"
   ]
  },
  {
   "cell_type": "code",
   "execution_count": 3,
   "id": "5606f3d0-272b-4fdd-8997-980684d9fc04",
   "metadata": {},
   "outputs": [],
   "source": [
    "import openai\n",
    "import os\n",
    "\n",
    "from langchain_community.agent_toolkits.sql.base import create_sql_agent\n",
    "from langchain_community.agent_toolkits.sql.toolkit import SQLDatabaseToolkit\n",
    "from langchain_community.utilities import SQLDatabase\n",
    "from langchain_openai.chat_models import ChatOpenAI"
   ]
  },
  {
   "cell_type": "code",
   "execution_count": 4,
   "id": "a20588da-3766-44ed-b40a-b3f162f4bab7",
   "metadata": {},
   "outputs": [],
   "source": [
    "model = \"gpt-4o-mini\"\n",
    "\n",
    "openai.api_key = os.getenv(\"OPENAI_API_KEY\")"
   ]
  },
  {
   "cell_type": "code",
   "execution_count": 5,
   "id": "0411305c-ac1d-4fbe-aea4-08f8fc1bd3ca",
   "metadata": {},
   "outputs": [],
   "source": [
    "llm = ChatOpenAI(\n",
    "    model = model,\n",
    "    temperature = 0,\n",
    "    verbose = False\n",
    ")"
   ]
  },
  {
   "cell_type": "code",
   "execution_count": 6,
   "id": "79e8cfb8-1438-42dd-9c1c-133cae430254",
   "metadata": {},
   "outputs": [],
   "source": [
    "connection_url = \"singlestoredb://\" + os.getenv(\"SINGLESTOREDB_URL\")"
   ]
  },
  {
   "cell_type": "code",
   "execution_count": 7,
   "id": "3f407d0f-9c47-4bf3-8914-5a4810f21042",
   "metadata": {},
   "outputs": [],
   "source": [
    "db = SQLDatabase.from_uri(\n",
    "    connection_url,\n",
    "    include_tables = [\"tick\"]\n",
    ")\n",
    "\n",
    "toolkit = SQLDatabaseToolkit(db = db, llm = llm)\n",
    "\n",
    "agent_executor = create_sql_agent(\n",
    "    llm = llm,\n",
    "    toolkit = toolkit,\n",
    "    max_iterations = 15,\n",
    "    max_execution_time = 120,\n",
    "    top_k = 1,\n",
    "    verbose = False\n",
    ")"
   ]
  },
  {
   "cell_type": "code",
   "execution_count": 8,
   "id": "4d9ef6c2-edd0-4b2e-a134-ee07b1d4370a",
   "metadata": {},
   "outputs": [],
   "source": [
    "error_string = \"Could not parse LLM output:\"\n",
    "\n",
    "def run_agent_query(query, agent_executor, error_string):\n",
    "    try:\n",
    "        result = agent_executor.invoke(query, return_only_outputs = True)[\"output\"]\n",
    "    except Exception as e:\n",
    "        error_message = str(e)\n",
    "        # Check if the error message contains the specific string\n",
    "        if error_string in error_message:\n",
    "            # Extract the part after the specific string and strip backticks\n",
    "            result = error_message.split(error_string)[1].strip().strip('`')\n",
    "        else:\n",
    "            result = f\"Error occurred: {error_message}\"\n",
    "    return result"
   ]
  },
  {
   "cell_type": "code",
   "execution_count": 9,
   "id": "3968795b-58b4-432d-856b-89268564ca6b",
   "metadata": {},
   "outputs": [
    {
     "name": "stdout",
     "output_type": "stream",
     "text": [
      "The stock symbol with the least volatility is FTR, with a volatility of 0.55.\n"
     ]
    }
   ],
   "source": [
    "# First query\n",
    "query1 = (\n",
    "    \"For each stock symbol, calculate the volatility as the difference\\n\"\n",
    "    \"between the highest recorded price and the lowest recorded price over time.\\n\"\n",
    "    \"Which stock symbol has the least volatility?\"\n",
    ")\n",
    "result1 = run_agent_query(query1, agent_executor, error_string)\n",
    "print(result1)"
   ]
  },
  {
   "cell_type": "code",
   "execution_count": 10,
   "id": "1038ec70-dbb0-4a21-9c50-ed15445705d8",
   "metadata": {},
   "outputs": [
    {
     "name": "stdin",
     "output_type": "stream",
     "text": [
      "Please enter your question: \n"
     ]
    },
    {
     "name": "stdout",
     "output_type": "stream",
     "text": [
      "No input provided. Using default query: 'How many rows are in the tick table?'\n",
      "There are 22,367,162 rows in the tick table.\n"
     ]
    }
   ],
   "source": [
    "# Second query with user input\n",
    "query2 = input(\"Please enter your question:\")\n",
    "if not query2.strip():\n",
    "    query2 = \"How many rows are in the tick table?\"\n",
    "    print(f\"No input provided. Using default query: '{query2}'\")\n",
    "\n",
    "result2 = run_agent_query(query2, agent_executor, error_string)\n",
    "print(result2)"
   ]
  },
  {
   "cell_type": "code",
   "execution_count": 11,
   "id": "9768aedc-3029-4676-a741-01bfb1d22d17",
   "metadata": {},
   "outputs": [],
   "source": [
    "db = SQLDatabase.from_uri(\n",
    "    connection_url,\n",
    "    include_tables = [\"tick\", \"portfolio\", \"stock_sentiment\"]\n",
    ")\n",
    "\n",
    "toolkit = SQLDatabaseToolkit(db = db, llm = llm)\n",
    "\n",
    "agent_executor = create_sql_agent(\n",
    "    llm = llm,\n",
    "    toolkit = toolkit,\n",
    "    max_iterations = 15,\n",
    "    max_execution_time = 120,\n",
    "    top_k = 1,\n",
    "    verbose = False\n",
    ")"
   ]
  },
  {
   "cell_type": "code",
   "execution_count": 12,
   "id": "1605f504-974f-4de9-b46d-63d62bb2a726",
   "metadata": {},
   "outputs": [
    {
     "name": "stdout",
     "output_type": "stream",
     "text": [
      "$44,540.60\n"
     ]
    }
   ],
   "source": [
    "# Third query\n",
    "query3 = (\n",
    "    \"Taking all the stock symbols from the portfolio table,\\n\"\n",
    "    \"and using the latest value for each stock symbol from the tick table,\\n\"\n",
    "    \"calculate the grand total value of all the shares listed in the portfolio table.\"\n",
    ")\n",
    "result3 = run_agent_query(query3, agent_executor, error_string)\n",
    "print(result3)"
   ]
  },
  {
   "cell_type": "code",
   "execution_count": 13,
   "id": "98162886-e7ca-436d-9c79-418759199bc5",
   "metadata": {},
   "outputs": [
    {
     "name": "stdout",
     "output_type": "stream",
     "text": [
      "On 2020-05-28, the most positive sentiment for AAPL was 0.331509, and the current best price for AAPL is 116.27.\n"
     ]
    }
   ],
   "source": [
    "# Fourth query\n",
    "query4 = (\n",
    "    \"Using the symbol AAPL, show me the date and the most\\n\"\n",
    "    \"positive sentiment in the stock sentiment table and the\\n\"\n",
    "    \"current best price for this symbol from the tick table.\"\n",
    ")\n",
    "result4 = run_agent_query(query4, agent_executor, error_string)\n",
    "print(result4)"
   ]
  }
 ],
 "metadata": {
  "kernelspec": {
   "display_name": "Python 3 (ipykernel)",
   "language": "python",
   "name": "python3"
  },
  "language_info": {
   "codemirror_mode": {
    "name": "ipython",
    "version": 3
   },
   "file_extension": ".py",
   "mimetype": "text/x-python",
   "name": "python",
   "nbconvert_exporter": "python",
   "pygments_lexer": "ipython3",
   "version": "3.12.7"
  }
 },
 "nbformat": 4,
 "nbformat_minor": 5
}
